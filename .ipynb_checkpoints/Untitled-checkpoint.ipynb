{
 "cells": [
  {
   "cell_type": "code",
   "execution_count": 1,
   "id": "6eb7ef25-ac53-47a4-9d7f-a41b3aa3b950",
   "metadata": {},
   "outputs": [],
   "source": [
    "from pathlib import Path\n",
    "import numpy as np\n",
    "import cv2"
   ]
  },
  {
   "cell_type": "code",
   "execution_count": null,
   "id": "5de59a4f-3952-4f2d-b432-7f9996eae99e",
   "metadata": {},
   "outputs": [],
   "source": [
    "# Constants\n",
    "# File locations, naming conventions, etc.\n",
    "UPLOADED_IMG_DIR = Path(\"uploaded\")\n",
    "UPLOADED_IMG = \"images-owls-png-hd-owl-free-download-png-png-image-485.png\""
   ]
  }
 ],
 "metadata": {
  "kernelspec": {
   "display_name": "Python 3 (ipykernel)",
   "language": "python",
   "name": "python3"
  },
  "language_info": {
   "codemirror_mode": {
    "name": "ipython",
    "version": 3
   },
   "file_extension": ".py",
   "mimetype": "text/x-python",
   "name": "python",
   "nbconvert_exporter": "python",
   "pygments_lexer": "ipython3",
   "version": "3.11.8"
  }
 },
 "nbformat": 4,
 "nbformat_minor": 5
}
