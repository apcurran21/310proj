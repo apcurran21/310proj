{
 "cells": [
  {
   "cell_type": "code",
   "execution_count": 1,
   "id": "6eb7ef25-ac53-47a4-9d7f-a41b3aa3b950",
   "metadata": {},
   "outputs": [],
   "source": [
    "from pathlib import Path\n",
    "import numpy as np\n",
    "import cv2"
   ]
  },
  {
   "cell_type": "code",
   "execution_count": 2,
   "id": "5de59a4f-3952-4f2d-b432-7f9996eae99e",
   "metadata": {},
   "outputs": [],
   "source": [
    "# Constants\n",
    "# File locations, naming conventions, etc.\n",
    "UPLOADED_IMG_DIR = Path(\"uploaded\")\n",
    "UPLOADED_IMG = \"images-owls-png-hd-owl-free-download-png-png-image-485.png\""
   ]
  },
  {
   "cell_type": "code",
   "execution_count": 13,
   "id": "bb21b18a-1641-4237-8953-7a144b755001",
   "metadata": {},
   "outputs": [],
   "source": [
    "def invert(img: np.ndarray):\n",
    "    return 255 - img"
   ]
  },
  {
   "cell_type": "code",
   "execution_count": 5,
   "id": "0a4a4df5-0d54-4d1f-b227-7ad47ff2210e",
   "metadata": {},
   "outputs": [],
   "source": [
    "img = cv2.imread(str(UPLOADED_IMG_DIR.joinpath(UPLOADED_IMG)))"
   ]
  },
  {
   "cell_type": "code",
   "execution_count": 14,
   "id": "2336ebbc-4c6e-44bd-ab14-c88b01b3b53e",
   "metadata": {},
   "outputs": [],
   "source": [
    "inv_img = invert(img)"
   ]
  },
  {
   "cell_type": "code",
   "execution_count": 12,
   "id": "d4b6f8bb-47b2-4093-9b5f-edd41708e5b7",
   "metadata": {},
   "outputs": [],
   "source": [
    "cv2.imshow('Image', img)\n",
    "cv2.waitKey(0)\n",
    "cv2.destroyAllWindows()"
   ]
  },
  {
   "cell_type": "code",
   "execution_count": null,
   "id": "996d0a09-e71b-4e9b-9d5c-67a83c93dea7",
   "metadata": {},
   "outputs": [],
   "source": [
    "cv2.imshow('Inverted Image', inv_img)\n",
    "cv2.waitKey(0)\n",
    "cv2.destroyAllWindows()"
   ]
  }
 ],
 "metadata": {
  "kernelspec": {
   "display_name": "Python 3 (ipykernel)",
   "language": "python",
   "name": "python3"
  },
  "language_info": {
   "codemirror_mode": {
    "name": "ipython",
    "version": 3
   },
   "file_extension": ".py",
   "mimetype": "text/x-python",
   "name": "python",
   "nbconvert_exporter": "python",
   "pygments_lexer": "ipython3",
   "version": "3.11.8"
  }
 },
 "nbformat": 4,
 "nbformat_minor": 5
}
